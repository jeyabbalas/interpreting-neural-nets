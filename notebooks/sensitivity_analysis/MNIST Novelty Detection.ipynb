{
 "cells": [
  {
   "cell_type": "markdown",
   "metadata": {},
   "source": [
    "# MNIST Novelty Detection"
   ]
  },
  {
   "cell_type": "code",
   "execution_count": 86,
   "metadata": {},
   "outputs": [],
   "source": [
    "import tensorflow as tf\n",
    "from tensorflow import keras\n",
    "import numpy as np\n",
    "\n",
    "from tensorflow.keras.datasets import mnist\n",
    "\n",
    "import matplotlib.pyplot as plt\n",
    "\n",
    "import warnings\n",
    "warnings.filterwarnings('ignore')"
   ]
  },
  {
   "cell_type": "code",
   "execution_count": 3,
   "metadata": {},
   "outputs": [
    {
     "name": "stdout",
     "output_type": "stream",
     "text": [
      "Downloading data from https://storage.googleapis.com/tensorflow/tf-keras-datasets/mnist.npz\n",
      "11493376/11490434 [==============================] - 0s 0us/step\n",
      "(60000, 28, 28)\n",
      "uint8\n",
      "(10000, 28, 28)\n"
     ]
    }
   ],
   "source": [
    "(X_train, y_train), (X_test, y_test) = mnist.load_data()\n",
    "\n",
    "print(X_train.shape) # 60K images\n",
    "print(X_train.dtype) # integer value 0 to 255\n",
    "print(X_test.shape) # 10K images"
   ]
  },
  {
   "cell_type": "code",
   "execution_count": 4,
   "metadata": {},
   "outputs": [],
   "source": [
    "# Convert int8 to float64\n",
    "X_train, X_test = X_train/255.0, X_test/255.0"
   ]
  },
  {
   "cell_type": "code",
   "execution_count": 5,
   "metadata": {},
   "outputs": [
    {
     "name": "stdout",
     "output_type": "stream",
     "text": [
      "float64\n",
      "float64\n"
     ]
    }
   ],
   "source": [
    "print(X_train.dtype)\n",
    "print(X_test.dtype)"
   ]
  },
  {
   "cell_type": "code",
   "execution_count": 24,
   "metadata": {},
   "outputs": [
    {
     "data": {
      "image/png": "[encoded data removed]",
      "text/plain": [
       "<Figure size 720x216 with 5 Axes>"
      ]
     },
     "metadata": {
      "needs_background": "light"
     },
     "output_type": "display_data"
    }
   ],
   "source": [
    "# Training examples\n",
    "fig, (ax0, ax1, ax2, ax3, ax4) = plt.subplots(1, 5, figsize=(10, 3))\n",
    "fig.suptitle('Training examples')\n",
    "ax0.imshow(X_train[0].reshape((28, 28)), cmap='gray')\n",
    "ax1.imshow(X_train[1].reshape((28, 28)), cmap='gray')\n",
    "ax2.imshow(X_train[2].reshape((28, 28)), cmap='gray')\n",
    "ax3.imshow(X_train[3].reshape((28, 28)), cmap='gray')\n",
    "ax4.imshow(X_train[4].reshape((28, 28)), cmap='gray')\n",
    "plt.tight_layout()"
   ]
  },
  {
   "cell_type": "code",
   "execution_count": 25,
   "metadata": {},
   "outputs": [
    {
     "data": {
      "text/plain": [
       "array([5, 0, 4, 1, 9], dtype=uint8)"
      ]
     },
     "execution_count": 25,
     "metadata": {},
     "output_type": "execute_result"
    }
   ],
   "source": [
    "# Training labels\n",
    "y_train[:5]"
   ]
  },
  {
   "cell_type": "code",
   "execution_count": 26,
   "metadata": {},
   "outputs": [
    {
     "name": "stdout",
     "output_type": "stream",
     "text": [
      "Model: \"sequential\"\n",
      "_________________________________________________________________\n",
      "Layer (type)                 Output Shape              Param #   \n",
      "=================================================================\n",
      "flatten (Flatten)            (None, 784)               0         \n",
      "_________________________________________________________________\n",
      "dense (Dense)                (None, 300)               235500    \n",
      "_________________________________________________________________\n",
      "dense_1 (Dense)              (None, 300)               90300     \n",
      "_________________________________________________________________\n",
      "dense_2 (Dense)              (None, 10)                3010      \n",
      "=================================================================\n",
      "Total params: 328,810\n",
      "Trainable params: 328,810\n",
      "Non-trainable params: 0\n",
      "_________________________________________________________________\n"
     ]
    }
   ],
   "source": [
    "model = keras.models.Sequential([\n",
    "    keras.layers.Flatten(input_shape=[28,28]),\n",
    "    keras.layers.Dense(300, activation='relu'),\n",
    "    keras.layers.Dense(300, activation='relu'),\n",
    "    keras.layers.Dense(10, activation='softmax'),\n",
    "])\n",
    "\n",
    "model.compile(loss='sparse_categorical_crossentropy',\n",
    "             optimizer=keras.optimizers.SGD(lr=0.01),\n",
    "             metrics=['accuracy'])\n",
    "\n",
    "model.summary()"
   ]
  },
  {
   "cell_type": "code",
   "execution_count": 27,
   "metadata": {},
   "outputs": [],
   "source": [
    "history = model.fit(X_train, y_train, epochs=30,\n",
    "                    batch_size=32, verbose=0,\n",
    "                    validation_data=(X_test, y_test)\n",
    "                   )"
   ]
  },
  {
   "cell_type": "code",
   "execution_count": 28,
   "metadata": {},
   "outputs": [
    {
     "name": "stdout",
     "output_type": "stream",
     "text": [
      "10000/10000 [==============================] - 0s 28us/sample - loss: 0.0672 - accuracy: 0.9783\n"
     ]
    },
    {
     "data": {
      "text/plain": [
       "[0.06718943581413478, 0.9783]"
      ]
     },
     "execution_count": 28,
     "metadata": {},
     "output_type": "execute_result"
    }
   ],
   "source": [
    "model.evaluate(X_test, y_test)"
   ]
  },
  {
   "cell_type": "code",
   "execution_count": 29,
   "metadata": {},
   "outputs": [
    {
     "data": {
      "image/png": "[encoded data removed]",
      "text/plain": [
       "<Figure size 432x288 with 1 Axes>"
      ]
     },
     "metadata": {
      "needs_background": "light"
     },
     "output_type": "display_data"
    }
   ],
   "source": [
    "plt.imshow(X_test[0].reshape((28, 28)), cmap='gray')\n",
    "plt.show()"
   ]
  },
  {
   "cell_type": "code",
   "execution_count": 33,
   "metadata": {},
   "outputs": [
    {
     "data": {
      "text/plain": [
       "array([[4.8109285e-07, 3.9185426e-08, 6.9762747e-05, 3.2190420e-04,\n",
       "        1.3901094e-09, 8.6965161e-07, 1.0997163e-11, 9.9959320e-01,\n",
       "        6.8876675e-06, 6.9881703e-06]], dtype=float32)"
      ]
     },
     "execution_count": 33,
     "metadata": {},
     "output_type": "execute_result"
    }
   ],
   "source": [
    "model.predict(X_test[:1])"
   ]
  },
  {
   "cell_type": "code",
   "execution_count": 56,
   "metadata": {},
   "outputs": [
    {
     "data": {
      "text/plain": [
       "array([[0., 0., 0., 0., 0., 0., 0., 1., 0., 0.]], dtype=float32)"
      ]
     },
     "execution_count": 56,
     "metadata": {},
     "output_type": "execute_result"
    }
   ],
   "source": [
    "np.around(model.predict(X_test[:1]), decimals=2)"
   ]
  },
  {
   "cell_type": "code",
   "execution_count": 34,
   "metadata": {},
   "outputs": [
    {
     "data": {
      "text/plain": [
       "array([7])"
      ]
     },
     "execution_count": 34,
     "metadata": {},
     "output_type": "execute_result"
    }
   ],
   "source": [
    "model.predict_classes(X_test[:1])"
   ]
  },
  {
   "cell_type": "code",
   "execution_count": 154,
   "metadata": {},
   "outputs": [
    {
     "data": {
      "image/png": "[encoded data removed]",
      "text/plain": [
       "<Figure size 432x288 with 1 Axes>"
      ]
     },
     "metadata": {
      "needs_background": "light"
     },
     "output_type": "display_data"
    }
   ],
   "source": [
    "temp2 = np.random.rand(28, 28)\n",
    "plt.imshow(temp2, cmap='gray')\n",
    "plt.show()"
   ]
  },
  {
   "cell_type": "code",
   "execution_count": 155,
   "metadata": {},
   "outputs": [
    {
     "data": {
      "text/plain": [
       "array([[0.  , 0.  , 0.  , 0.  , 0.  , 0.02, 0.  , 0.  , 0.98, 0.  ]],\n",
       "      dtype=float32)"
      ]
     },
     "execution_count": 155,
     "metadata": {},
     "output_type": "execute_result"
    }
   ],
   "source": [
    "np.around(model.predict(np.array([temp2])), decimals=2)"
   ]
  },
  {
   "cell_type": "code",
   "execution_count": 156,
   "metadata": {},
   "outputs": [
    {
     "data": {
      "text/plain": [
       "array([8])"
      ]
     },
     "execution_count": 156,
     "metadata": {},
     "output_type": "execute_result"
    }
   ],
   "source": [
    "model.predict_classes(np.array([temp2]))"
   ]
  },
  {
   "cell_type": "markdown",
   "metadata": {},
   "source": [
    "# MNIST Novelty Detection with Sensitivity Analysis\n",
    "\n",
    "### Novelty Index Algorithm (for MNIST)\n",
    "1. The Jacobian ($\\pmb{J}$) is the partial derivative of the of the each outcome variable ($y_k; \\text{ where } k = 1,\\cdots, c$) with respect to each input variable ($x_i; \\text{ where } i=1,\\cdots, n$). It is made adimensional by multiplying with the predictor value by the output value.\n",
    "\n",
    "$$\n",
    "\\pmb{J}_{\\vec{x}} = \n",
    "\\begin{bmatrix}\n",
    "\\frac{\\partial f_{1}(\\vec{x})}{\\partial x_{1}}\\cdot\\frac{x_{1}}{y} & \\cdots & \\frac{\\partial f_{1}(\\vec{x})}{\\partial x_{n}}\\cdot\\frac{x_{n}}{y} \\\\\n",
    "\\vdots & \\ddots & \\vdots \\\\\n",
    "\\frac{\\partial f_{c}(\\vec{x})}{\\partial x_{1}}\\cdot\\frac{x_{1}}{y} & \\cdots & \\frac{\\partial f_{c}(\\vec{x})}{\\partial x_{n}}\\cdot\\frac{x_{n}}{y}\n",
    "\\end{bmatrix}\n",
    "$$"
   ]
  },
  {
   "cell_type": "markdown",
   "metadata": {},
   "source": [
    "2. Weigh instances by their sensitivity values. Project all the training instances ($x^{j}; j=1,\\cdots m$) and the test instance ($x^{t}$), weighed by the absolute Jacobian matrix for the instance ($\\pmb{J}_{\\vec{x}}$). Each instance is broadcast $c$ times, so we can weigh by sensitivity weights once for each class.\n",
    "\n",
    "$$\n",
    "\\pmb{\\vec{x}^{\\,j}} := |\\pmb{J}_{\\vec{x}^{\\,j}}| \\circ \\begin{bmatrix}\\vec{x}^{\\,j,1}\\\\ \\vdots\\\\ \\vec{x}^{\\,j,c}\\end{bmatrix};\\;\\;\\;\\;\\;\\; \\text{ where }j=1,\\cdots,m,t.\n",
    "$$"
   ]
  },
  {
   "cell_type": "markdown",
   "metadata": {},
   "source": [
    "3. Compute the smallest Euclidean distance between the weighted test instance and any weighted train instance.\n",
    "\n",
    "$$\n",
    "\\pmb{d}(\\vec{x}^{\\,t},D^{train}) = \\sqrt{\\sum_{i=1}^{n} (\\pmb{\\vec{x}^{\\,j}} - \\pmb{\\vec{x}^{\\,t}})^2};\\;\\;\\;\\;\\;\\; \\forall \\vec{x}^{\\,j} \\in D^{train}\n",
    "$$\n",
    "\n",
    "$$\n",
    "\\pmb{d_{min}}(\\vec{x}^{\\,t},D^{train}) = \\min_{i} \\pmb{d}^{(i,k)}(\\vec{x}^{\\,t},D^{train});\\;\\;\\;\\;\\;\\; \\text{ where } i=1,\\cdots,|D^{train}|; k=1,\\cdots,c. \n",
    "$$"
   ]
  },
  {
   "cell_type": "markdown",
   "metadata": {},
   "source": [
    "4. Compute the median Euclidean distance between each training instance with every other training instance.\n",
    "\n",
    "$$\n",
    "\\pmb{d_{median}}(D^{train}) = median \\left( \\pmb{d_{min}}\\left(\\vec{x}^{\\,j}, D^{train}\\setminus\\vec{x}^{\\,j}\\right) \\right);\\;\\;\\;\\;\\;\\; \\forall \\vec{x}^{\\,j} \\in D^{train}\n",
    "$$\n",
    "\n",
    "5. Calculate Novelty Index ($\\eta$), which is the ratio between the smallest Euclidean distance between the test instance and all train instances ($d_{min}$), and the median Euclidean distance between each training instance with every other training instance ($d_{median}$).\n",
    "\n",
    "$$\n",
    "\\pmb{\\eta}(\\vec{x}^{\\,t}, D^{train}) = \\frac{\\pmb{d_{min}}(\\vec{x}^{\\,t},D^{train})}{\\pmb{d_{median}}(D^{train})}\n",
    "$$\n"
   ]
  },
  {
   "cell_type": "code",
   "execution_count": 141,
   "metadata": {},
   "outputs": [],
   "source": [
    "def abs_adim_jacobian_instance(x, model):\n",
    "    \"\"\"\n",
    "    Computes the adimensional Jacobian of an input vector and \n",
    "    a Keras model with any number of outputs\n",
    "    \n",
    "    Input—\n",
    "        x: Floating numpy vector of inputs.\n",
    "        model: Keras model.\n",
    "    \n",
    "    Output—\n",
    "        jacobian: Absolute adimensional numpy Jacobian vector for \n",
    "            multidimensional output wrt each input.\n",
    "    \"\"\"\n",
    "    x_tensor = tf.convert_to_tensor(x.reshape(1,28,28), dtype=tf.float64)\n",
    "    with tf.GradientTape() as g:\n",
    "        g.watch(x_tensor)\n",
    "        y_tensor = model(x_tensor)\n",
    "    jacobian = g.jacobian(y_tensor, x_tensor)\n",
    "    jacobian = jacobian.numpy()[0] # only entry for one example\n",
    "    jacobian = jacobian.reshape(jacobian.shape[0],-1) # (nClasses, nInputs)\n",
    "    \n",
    "    \"\"\"\n",
    "    Not using this for MNIST because all inputs have the same dimension\n",
    "    \n",
    "    # Hadamard product between input-variable-gradient and \n",
    "    # variable-value/loss to remove the dimensions\n",
    "    input_by_loss = np.tile(x, (jacobian.shape[0],1)) # broadcast x, nClasses times\n",
    "    epsilon = 1/np.finfo(np.float32).max # Minimum precision float32 to prevent division by zero.\n",
    "    input_by_loss = input_by_loss / (y_tensor.numpy()[0].reshape(-1,1) + epsilon) # divide each row with y value for that class\n",
    "    adim_jacobian = np.multiply(jacobian, input_by_loss)\n",
    "    \"\"\"\n",
    "    \n",
    "    return np.absolute(jacobian)"
   ]
  },
  {
   "cell_type": "code",
   "execution_count": 220,
   "metadata": {},
   "outputs": [],
   "source": [
    "def weigh_instance_by_sensitivity(x, model):\n",
    "    \"\"\"\n",
    "    Weighs an input numpy vector for the Keras model by its sensitivity.\n",
    "    \n",
    "    Input—\n",
    "        x: Floating numpy vector of inputs.\n",
    "        model: Keras model.\n",
    "    \n",
    "    Output—\n",
    "        weighted_x: Input x weighted by its sensitivity weight.\n",
    "    \"\"\"\n",
    "    sens_wts_matrix = abs_adim_jacobian_instance(x, model)\n",
    "    # Hadamard product between absolute sensitivity-weights and query (broadcasted to nClasses rows)\n",
    "    weighted_x = np.multiply(sens_wts_matrix, np.tile(x, (sens_wts_matrix.shape[0],1)))\n",
    "    \n",
    "    return weighted_x"
   ]
  },
  {
   "cell_type": "code",
   "execution_count": 83,
   "metadata": {},
   "outputs": [],
   "source": [
    "def weigh_matrix_by_sensitivity(reference, model):\n",
    "    \"\"\"\n",
    "    Weighs all rows of the reference data matrix by its sensitivity in the \n",
    "    input Keras model.\n",
    "    \n",
    "    Input—\n",
    "        reference: Input data matrix to be weighted by sensitivity.\n",
    "    \n",
    "    Output— \n",
    "        Input data matrix weighed by sensitivity.\n",
    "    \"\"\"\n",
    "    return np.apply_along_axis(weigh_instance_by_sensitivity, \n",
    "                               1, \n",
    "                               reference, model=model)"
   ]
  },
  {
   "cell_type": "code",
   "execution_count": 189,
   "metadata": {},
   "outputs": [],
   "source": [
    "def min_weighted_euclidean_dist(query, reference, model):\n",
    "    \"\"\"\n",
    "    Compute the euclidean distance between the query (weighted by the sensitivity)\n",
    "    and each data point in reference (weighed by their sensitivities), then return\n",
    "    the minimum of the distances.\n",
    "    \n",
    "    Input—\n",
    "        query: Data point queried to the Keras model.\n",
    "        reference: Training data or any representation of training data\n",
    "            used to build the input model.\n",
    "        model: Keras model.\n",
    "    \n",
    "    Output—\n",
    "        min_dist: minimum Euclidean distance between weighted query and weighted\n",
    "            reference data points.\n",
    "    \"\"\"\n",
    "    weighted_query = weigh_instance_by_sensitivity(query, model) #(nClasses,)\n",
    "    weighted_ref = weigh_matrix_by_sensitivity(reference, model) #(nClasses, nInstances)\n",
    "    diff = weighted_ref-weighted_query #(nClasses, nInstances)\n",
    "    dists = np.apply_along_axis(np.linalg.norm, \n",
    "                                2, \n",
    "                                diff) #(nInstances, nClasses)\n",
    "    min_dist = np.amin(dists,axis=0) #(nClasses,)\n",
    "    return min_dist"
   ]
  },
  {
   "cell_type": "code",
   "execution_count": 190,
   "metadata": {},
   "outputs": [],
   "source": [
    "def second_min_weighted_euclidean_dist(query, reference, model):\n",
    "    \"\"\"\n",
    "    Compute the minimum Euclidean distance between weighted query and weighted\n",
    "    reference datapoints excluding the distance comparing query to itself.\n",
    "    \n",
    "    Input—\n",
    "        query: Data point from within the reference set.\n",
    "        reference: Training data or any representation of training data\n",
    "            used to build the input model.\n",
    "        model: Keras model.\n",
    "    \n",
    "    Output—\n",
    "        second_min_dist: Min euclidean distance between query and all reference\n",
    "            data points excluding the query.\n",
    "    \"\"\"\n",
    "    weighted_query = weigh_instance_by_sensitivity(query, model) #(nClasses,)\n",
    "    weighted_ref = weigh_matrix_by_sensitivity(reference, model) #(nClasses, nInstances)\n",
    "    diff = weighted_ref-weighted_query #(nClasses, nInstances)\n",
    "    dists = np.apply_along_axis(np.linalg.norm, \n",
    "                                2, \n",
    "                                diff) #(nInstances, nClasses)\n",
    "    \n",
    "    # sort each column, then take the second row\n",
    "    # because the min would be the instance compared to itself\n",
    "    second_min_dist = np.sort(dists, \n",
    "                              kind=\"mergesort\", \n",
    "                              axis=0)[1] #(nClasses,)\n",
    "    return second_min_dist"
   ]
  },
  {
   "cell_type": "code",
   "execution_count": 204,
   "metadata": {},
   "outputs": [],
   "source": [
    "def median_ref_wt_euclidean_dist(reference, model):\n",
    "    \"\"\"\n",
    "    Median euclidean distance between every data point in the reference\n",
    "    compared to every other data point in the reference, each weighted\n",
    "    by their sensitivities.\n",
    "    \n",
    "    Input—\n",
    "        reference: data representing the training data that model was trained on.\n",
    "        model: Keras model.\n",
    "    \n",
    "    Output—\n",
    "        Median euclidean distance between each data point in reference compared \n",
    "            to every other data point.\n",
    "    \"\"\"\n",
    "    reference = reference.reshape(reference.shape[0], -1) #flatten for MNIST\n",
    "    #(nInstances,nClasses)\n",
    "    min_dists = np.apply_along_axis(second_min_weighted_euclidean_dist, \n",
    "                                    1, \n",
    "                                    reference, reference=reference, model = model)\n",
    "    return np.median(min_dists, axis=0) #(nClasses,)"
   ]
  },
  {
   "cell_type": "code",
   "execution_count": 221,
   "metadata": {},
   "outputs": [],
   "source": [
    "def compute_novelty_index(query, nov_deno, reference, model):\n",
    "    \"\"\"\n",
    "    Computes novelty index.\n",
    "    \n",
    "    Input—\n",
    "        query: Query to be used for the Keras model as a numpy row vector.\n",
    "        nov_deno: Median euclidean distance between each data point in reference compared \n",
    "            to every other data point in the reference.\n",
    "        reference: Representation of training data.\n",
    "        model: Keras model.\n",
    "    \n",
    "    Output—\n",
    "        Novelty index\n",
    "    \n",
    "    \"\"\"\n",
    "    #flatten for MNIST\n",
    "    query = query.reshape(1,-1)\n",
    "    reference = reference.reshape(reference.shape[0], -1) \n",
    "    nov_nume = min_weighted_euclidean_dist(query, reference, model) #(nClasses,)\n",
    "    \n",
    "    return nov_nume/nov_deno #(nClasses,)"
   ]
  },
  {
   "cell_type": "markdown",
   "metadata": {},
   "source": [
    "## Testing Novelty Index"
   ]
  },
  {
   "cell_type": "code",
   "execution_count": 202,
   "metadata": {},
   "outputs": [],
   "source": [
    "X_train_ref = X_train[np.random.randint(X_train.shape[0], size=250), :]"
   ]
  },
  {
   "cell_type": "code",
   "execution_count": 203,
   "metadata": {},
   "outputs": [
    {
     "data": {
      "text/plain": [
       "(250, 28, 28)"
      ]
     },
     "execution_count": 203,
     "metadata": {},
     "output_type": "execute_result"
    }
   ],
   "source": [
    "X_train_ref.shape"
   ]
  },
  {
   "cell_type": "code",
   "execution_count": 205,
   "metadata": {},
   "outputs": [],
   "source": [
    "#deno = median_ref_wt_euclidean_dist(X_train_ref, model)"
   ]
  },
  {
   "cell_type": "code",
   "execution_count": 207,
   "metadata": {},
   "outputs": [
    {
     "data": {
      "text/plain": [
       "array([9.46863314e-07, 1.07021771e-06, 1.66700657e-05, 4.92811554e-06,\n",
       "       4.84327962e-06, 1.57943013e-06, 5.57072690e-07, 2.29424814e-05,\n",
       "       2.62758839e-05, 1.00218418e-05])"
      ]
     },
     "execution_count": 207,
     "metadata": {},
     "output_type": "execute_result"
    }
   ],
   "source": [
    "deno"
   ]
  },
  {
   "cell_type": "code",
   "execution_count": 211,
   "metadata": {},
   "outputs": [
    {
     "data": {
      "text/plain": [
       "(28, 28)"
      ]
     },
     "execution_count": 211,
     "metadata": {},
     "output_type": "execute_result"
    }
   ],
   "source": [
    "X_train_ref[0].shape"
   ]
  },
  {
   "cell_type": "code",
   "execution_count": 244,
   "metadata": {},
   "outputs": [],
   "source": [
    "# Novelty index of a training query\n",
    "query = X_train_ref[0]\n",
    "ni_train = compute_novelty_index(query, deno, X_train_ref, model)"
   ]
  },
  {
   "cell_type": "code",
   "execution_count": 265,
   "metadata": {},
   "outputs": [
    {
     "data": {
      "image/png": "[encoded data removed]",
      "text/plain": [
       "<Figure size 432x288 with 1 Axes>"
      ]
     },
     "metadata": {
      "needs_background": "light"
     },
     "output_type": "display_data"
    }
   ],
   "source": [
    "plt.imshow(query.reshape((28, 28)), cmap='gray')\n",
    "plt.show()"
   ]
  },
  {
   "cell_type": "code",
   "execution_count": 245,
   "metadata": {},
   "outputs": [
    {
     "data": {
      "text/plain": [
       "array([1])"
      ]
     },
     "execution_count": 245,
     "metadata": {},
     "output_type": "execute_result"
    }
   ],
   "source": [
    "model.predict_classes(X_train_ref[0].reshape(1,28,28))"
   ]
  },
  {
   "cell_type": "code",
   "execution_count": 248,
   "metadata": {},
   "outputs": [
    {
     "data": {
      "text/plain": [
       "0.0"
      ]
     },
     "execution_count": 248,
     "metadata": {},
     "output_type": "execute_result"
    }
   ],
   "source": [
    "np.around(ni_train[1])"
   ]
  },
  {
   "cell_type": "code",
   "execution_count": 249,
   "metadata": {},
   "outputs": [
    {
     "data": {
      "text/plain": [
       "array([0., 0., 0., 0., 0., 0., 0., 0., 0., 0.])"
      ]
     },
     "execution_count": 249,
     "metadata": {},
     "output_type": "execute_result"
    }
   ],
   "source": [
    "np.around(ni_train)"
   ]
  },
  {
   "cell_type": "markdown",
   "metadata": {},
   "source": []
  },
  {
   "cell_type": "code",
   "execution_count": 255,
   "metadata": {},
   "outputs": [],
   "source": [
    "# Novelty index of a test query\n",
    "query = X_test[np.random.randint(X_test.shape[0], size=1), :]\n",
    "ni_test = compute_novelty_index(query, deno, X_train_ref, model)"
   ]
  },
  {
   "cell_type": "code",
   "execution_count": 257,
   "metadata": {},
   "outputs": [
    {
     "data": {
      "image/png": "[encoded data removed]",
      "text/plain": [
       "<Figure size 432x288 with 1 Axes>"
      ]
     },
     "metadata": {
      "needs_background": "light"
     },
     "output_type": "display_data"
    }
   ],
   "source": [
    "plt.imshow(query.reshape((28, 28)), cmap='gray')\n",
    "plt.show()"
   ]
  },
  {
   "cell_type": "code",
   "execution_count": 258,
   "metadata": {},
   "outputs": [
    {
     "data": {
      "text/plain": [
       "array([5])"
      ]
     },
     "execution_count": 258,
     "metadata": {},
     "output_type": "execute_result"
    }
   ],
   "source": [
    "model.predict_classes(query.reshape(1,28,28))"
   ]
  },
  {
   "cell_type": "code",
   "execution_count": 259,
   "metadata": {},
   "outputs": [
    {
     "data": {
      "text/plain": [
       "5.0"
      ]
     },
     "execution_count": 259,
     "metadata": {},
     "output_type": "execute_result"
    }
   ],
   "source": [
    "np.around(ni_test[5])"
   ]
  },
  {
   "cell_type": "code",
   "execution_count": 260,
   "metadata": {},
   "outputs": [
    {
     "data": {
      "text/plain": [
       "array([0., 0., 0., 1., 0., 5., 0., 0., 0., 0.])"
      ]
     },
     "execution_count": 260,
     "metadata": {},
     "output_type": "execute_result"
    }
   ],
   "source": [
    "np.around(ni_test)"
   ]
  },
  {
   "cell_type": "markdown",
   "metadata": {},
   "source": []
  },
  {
   "cell_type": "code",
   "execution_count": 224,
   "metadata": {},
   "outputs": [],
   "source": [
    "# Novelty index of a noise query\n",
    "query = temp2\n",
    "ni_noise = compute_novelty_index(query, deno, X_train_ref, model)"
   ]
  },
  {
   "cell_type": "code",
   "execution_count": 263,
   "metadata": {},
   "outputs": [
    {
     "data": {
      "image/png": "[encoded data removed]",
      "text/plain": [
       "<Figure size 432x288 with 1 Axes>"
      ]
     },
     "metadata": {
      "needs_background": "light"
     },
     "output_type": "display_data"
    }
   ],
   "source": [
    "plt.imshow(query.reshape((28, 28)), cmap='gray')\n",
    "plt.show()"
   ]
  },
  {
   "cell_type": "code",
   "execution_count": 261,
   "metadata": {},
   "outputs": [
    {
     "data": {
      "text/plain": [
       "array([8])"
      ]
     },
     "execution_count": 261,
     "metadata": {},
     "output_type": "execute_result"
    }
   ],
   "source": [
    "model.predict_classes(temp2.reshape(1,28,28))"
   ]
  },
  {
   "cell_type": "code",
   "execution_count": 238,
   "metadata": {},
   "outputs": [
    {
     "data": {
      "text/plain": [
       "4458.0"
      ]
     },
     "execution_count": 238,
     "metadata": {},
     "output_type": "execute_result"
    }
   ],
   "source": [
    "np.around(ni_noise[8])"
   ]
  },
  {
   "cell_type": "code",
   "execution_count": 239,
   "metadata": {},
   "outputs": [
    {
     "data": {
      "text/plain": [
       "array([0.0000e+00, 0.0000e+00, 1.0000e+00, 1.9930e+03, 0.0000e+00,\n",
       "       6.9957e+04, 0.0000e+00, 0.0000e+00, 4.4580e+03, 5.4600e+02])"
      ]
     },
     "execution_count": 239,
     "metadata": {},
     "output_type": "execute_result"
    }
   ],
   "source": [
    "np.around(ni_noise)"
   ]
  },
  {
   "cell_type": "code",
   "execution_count": null,
   "metadata": {},
   "outputs": [],
   "source": []
  }
 ],
 "metadata": {
  "kernelspec": {
   "display_name": "Python 3",
   "language": "python",
   "name": "python3"
  },
  "language_info": {
   "codemirror_mode": {
    "name": "ipython",
    "version": 3
   },
   "file_extension": ".py",
   "mimetype": "text/x-python",
   "name": "python",
   "nbconvert_exporter": "python",
   "pygments_lexer": "ipython3",
   "version": "3.7.6"
  }
 },
 "nbformat": 4,
 "nbformat_minor": 4
}
