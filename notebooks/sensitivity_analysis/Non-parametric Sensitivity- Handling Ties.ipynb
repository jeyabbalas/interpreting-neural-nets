{
 "cells": [
  {
   "cell_type": "code",
   "execution_count": 1,
   "metadata": {},
   "outputs": [],
   "source": [
    "import numpy as np\n",
    "import pandas as pd\n",
    "from matplotlib import pyplot as plt\n",
    "\n",
    "import tensorflow as tf\n",
    "from tensorflow import keras\n",
    "\n",
    "# For data\n",
    "from sklearn.datasets import load_iris\n",
    "from sklearn.model_selection import train_test_split"
   ]
  },
  {
   "cell_type": "code",
   "execution_count": 2,
   "metadata": {},
   "outputs": [],
   "source": [
    "def get_cdf(x):\n",
    "    \"\"\"\n",
    "    Computes cumulative distribution function for the input vector.\n",
    "    Input—\n",
    "        x: data vector\n",
    "    Output—\n",
    "        cdf: cumulative distribution function\n",
    "    \"\"\"\n",
    "    x_sorted = np.unique(x) # handles ties\n",
    "    n = x_sorted.size\n",
    "    x_sorted_cdf = np.array(list(range(n)))/(n-1)\n",
    "    cdf = np.stack((x_sorted, x_sorted_cdf))\n",
    "    \n",
    "    return cdf"
   ]
  },
  {
   "cell_type": "code",
   "execution_count": 3,
   "metadata": {},
   "outputs": [],
   "source": [
    "def map_point_to_linear_interp(x_val, memb):\n",
    "    X = memb[0,:]\n",
    "    Y = memb[1,:]\n",
    "    i = np.sum(X < x_val) # index of first X value > x_val\n",
    "    n = Y.size\n",
    "    \n",
    "    if(i == 0): # lower bound\n",
    "        return Y[0]\n",
    "    elif(i == n): # upper bound\n",
    "        return Y[n - 1] \n",
    "    else: # y = b + m*x\n",
    "        return (Y[i-1] + ((Y[i] - Y[i-1])/(X[i] - X[i-1]))*(x_val - X[i-1]))\n",
    "\n",
    "def map_data_to_linear_interp(x, memb):\n",
    "    \"\"\"\n",
    "    Map each value of vector x according to the linear function\n",
    "    interpolated between the points specified by the membership function.\n",
    "    Input—\n",
    "        x: input vector of values\n",
    "    Output—\n",
    "        memb: distribution specified by two rows. Row 1 contains\n",
    "            the raw x values. Row 2 contains the membership of the\n",
    "            raw x values.\n",
    "    \"\"\"\n",
    "    return np.array([map_point_to_linear_interp(x_val, memb) for x_val in x])"
   ]
  },
  {
   "cell_type": "code",
   "execution_count": 4,
   "metadata": {},
   "outputs": [],
   "source": [
    "def rank_transform_fit(data):\n",
    "    cdfs = list()\n",
    "    for i in range(data.shape[1]):\n",
    "        cdfs.append(get_cdf(data[:,i]))\n",
    "    return cdfs"
   ]
  },
  {
   "cell_type": "code",
   "execution_count": 5,
   "metadata": {},
   "outputs": [],
   "source": [
    "def rank_transform(data, cdfs):\n",
    "    norm_data = np.zeros((data.shape[0], data.shape[1]), dtype=float)\n",
    "    for i in range(data.shape[1]):\n",
    "        norm_data[:,i] = map_data_to_linear_interp(data[:,i], cdfs[i])\n",
    "    return norm_data"
   ]
  },
  {
   "cell_type": "code",
   "execution_count": 6,
   "metadata": {},
   "outputs": [],
   "source": [
    "iris_data = load_iris()\n",
    "\n",
    "X = iris_data.data\n",
    "y = (iris_data.target==0).astype(int) # is setosa?\n",
    "\n",
    "X_train, X_test, y_train, y_test = train_test_split(X, y, test_size=0.25, random_state=1)\n",
    "feature_names = iris_data.feature_names"
   ]
  },
  {
   "cell_type": "code",
   "execution_count": 7,
   "metadata": {},
   "outputs": [],
   "source": [
    "cdfs = rank_transform_fit(X_train)\n",
    "norm_X_train = rank_transform(X_train, cdfs)\n",
    "norm_X_test = rank_transform(X_test, cdfs)"
   ]
  },
  {
   "cell_type": "code",
   "execution_count": 8,
   "metadata": {},
   "outputs": [],
   "source": [
    "# Define a root log directory\n",
    "import os\n",
    "import time\n",
    "\n",
    "root_logdir = os.path.join(os.curdir, \"my_logs\")\n",
    "\n",
    "def get_run_logdir():\n",
    "    run_id = time.strftime(\"run_%Y_%m_%d-%H_%M_%S\")\n",
    "    return os.path.join(root_logdir, run_id)"
   ]
  },
  {
   "cell_type": "code",
   "execution_count": 9,
   "metadata": {},
   "outputs": [
    {
     "name": "stdout",
     "output_type": "stream",
     "text": [
      "./my_logs/run_2020_03_09-12_26_59\n"
     ]
    }
   ],
   "source": [
    "run_logdir = get_run_logdir()\n",
    "print(run_logdir)"
   ]
  },
  {
   "cell_type": "code",
   "execution_count": 10,
   "metadata": {},
   "outputs": [],
   "source": [
    "model = keras.models.Sequential([\n",
    "    keras.layers.Input(shape=[X_train.shape[1]]),\n",
    "    keras.layers.Dense(30, activation='relu'),\n",
    "    keras.layers.Dense(30, activation='relu'),\n",
    "    keras.layers.Dense(1, activation='sigmoid')\n",
    "])\n",
    "    \n",
    "model.compile(loss='binary_crossentropy',\n",
    "              optimizer=keras.optimizers.Adam(learning_rate=0.01),\n",
    "              metrics=['accuracy'])"
   ]
  },
  {
   "cell_type": "code",
   "execution_count": 11,
   "metadata": {},
   "outputs": [
    {
     "name": "stdout",
     "output_type": "stream",
     "text": [
      "Train on 112 samples, validate on 38 samples\n",
      "Epoch 1/200\n",
      "112/112 [==============================] - 0s 3ms/sample - loss: 0.6320 - accuracy: 0.6696 - val_loss: 0.5537 - val_accuracy: 0.6579\n",
      "Epoch 2/200\n",
      "112/112 [==============================] - 0s 114us/sample - loss: 0.5070 - accuracy: 0.6696 - val_loss: 0.4425 - val_accuracy: 0.6579\n",
      "Epoch 3/200\n",
      "112/112 [==============================] - 0s 145us/sample - loss: 0.3996 - accuracy: 0.6964 - val_loss: 0.3258 - val_accuracy: 0.9211\n",
      "Epoch 4/200\n",
      "112/112 [==============================] - 0s 145us/sample - loss: 0.2836 - accuracy: 0.9464 - val_loss: 0.2065 - val_accuracy: 1.0000\n",
      "Epoch 5/200\n",
      "112/112 [==============================] - 0s 160us/sample - loss: 0.1776 - accuracy: 0.9911 - val_loss: 0.1149 - val_accuracy: 1.0000\n",
      "Epoch 6/200\n",
      "112/112 [==============================] - 0s 148us/sample - loss: 0.0998 - accuracy: 1.0000 - val_loss: 0.0527 - val_accuracy: 1.0000\n",
      "Epoch 7/200\n",
      "112/112 [==============================] - 0s 151us/sample - loss: 0.0494 - accuracy: 1.0000 - val_loss: 0.0227 - val_accuracy: 1.0000\n",
      "Epoch 8/200\n",
      "112/112 [==============================] - 0s 142us/sample - loss: 0.0245 - accuracy: 1.0000 - val_loss: 0.0104 - val_accuracy: 1.0000\n",
      "Epoch 9/200\n",
      "112/112 [==============================] - 0s 149us/sample - loss: 0.0128 - accuracy: 1.0000 - val_loss: 0.0056 - val_accuracy: 1.0000\n",
      "Epoch 10/200\n",
      "112/112 [==============================] - 0s 146us/sample - loss: 0.0078 - accuracy: 1.0000 - val_loss: 0.0032 - val_accuracy: 1.0000\n",
      "Epoch 11/200\n",
      "112/112 [==============================] - 0s 148us/sample - loss: 0.0050 - accuracy: 1.0000 - val_loss: 0.0020 - val_accuracy: 1.0000\n",
      "Epoch 12/200\n",
      "112/112 [==============================] - 0s 136us/sample - loss: 0.0037 - accuracy: 1.0000 - val_loss: 0.0013 - val_accuracy: 1.0000\n",
      "Epoch 13/200\n",
      "112/112 [==============================] - 0s 160us/sample - loss: 0.0028 - accuracy: 1.0000 - val_loss: 0.0010 - val_accuracy: 1.0000\n",
      "Epoch 14/200\n",
      "112/112 [==============================] - 0s 145us/sample - loss: 0.0023 - accuracy: 1.0000 - val_loss: 8.5444e-04 - val_accuracy: 1.0000\n",
      "Epoch 15/200\n",
      "112/112 [==============================] - 0s 156us/sample - loss: 0.0020 - accuracy: 1.0000 - val_loss: 7.2731e-04 - val_accuracy: 1.0000\n",
      "Epoch 16/200\n",
      "112/112 [==============================] - 0s 142us/sample - loss: 0.0018 - accuracy: 1.0000 - val_loss: 6.7379e-04 - val_accuracy: 1.0000\n",
      "Epoch 17/200\n",
      "112/112 [==============================] - 0s 150us/sample - loss: 0.0016 - accuracy: 1.0000 - val_loss: 6.4053e-04 - val_accuracy: 1.0000\n",
      "Epoch 18/200\n",
      "112/112 [==============================] - 0s 143us/sample - loss: 0.0014 - accuracy: 1.0000 - val_loss: 6.1267e-04 - val_accuracy: 1.0000\n",
      "Epoch 19/200\n",
      "112/112 [==============================] - 0s 145us/sample - loss: 0.0013 - accuracy: 1.0000 - val_loss: 5.8939e-04 - val_accuracy: 1.0000\n",
      "Epoch 20/200\n",
      "112/112 [==============================] - 0s 142us/sample - loss: 0.0013 - accuracy: 1.0000 - val_loss: 5.9086e-04 - val_accuracy: 1.0000\n",
      "Epoch 21/200\n",
      "112/112 [==============================] - 0s 144us/sample - loss: 0.0011 - accuracy: 1.0000 - val_loss: 5.1089e-04 - val_accuracy: 1.0000\n",
      "Epoch 22/200\n",
      "112/112 [==============================] - 0s 144us/sample - loss: 0.0011 - accuracy: 1.0000 - val_loss: 4.3431e-04 - val_accuracy: 1.0000\n",
      "Epoch 23/200\n",
      "112/112 [==============================] - 0s 144us/sample - loss: 0.0010 - accuracy: 1.0000 - val_loss: 3.8181e-04 - val_accuracy: 1.0000\n",
      "Epoch 24/200\n",
      "112/112 [==============================] - 0s 147us/sample - loss: 9.8699e-04 - accuracy: 1.0000 - val_loss: 3.5626e-04 - val_accuracy: 1.0000\n",
      "Epoch 25/200\n",
      "112/112 [==============================] - 0s 148us/sample - loss: 9.4268e-04 - accuracy: 1.0000 - val_loss: 3.6776e-04 - val_accuracy: 1.0000\n",
      "Epoch 26/200\n",
      "112/112 [==============================] - 0s 144us/sample - loss: 8.6815e-04 - accuracy: 1.0000 - val_loss: 3.6613e-04 - val_accuracy: 1.0000\n",
      "Epoch 27/200\n",
      "112/112 [==============================] - 0s 141us/sample - loss: 8.3036e-04 - accuracy: 1.0000 - val_loss: 3.6633e-04 - val_accuracy: 1.0000\n",
      "Epoch 28/200\n",
      "112/112 [==============================] - 0s 142us/sample - loss: 7.8924e-04 - accuracy: 1.0000 - val_loss: 3.6470e-04 - val_accuracy: 1.0000\n",
      "Epoch 29/200\n",
      "112/112 [==============================] - 0s 140us/sample - loss: 7.5866e-04 - accuracy: 1.0000 - val_loss: 3.5577e-04 - val_accuracy: 1.0000\n",
      "Epoch 30/200\n",
      "112/112 [==============================] - 0s 139us/sample - loss: 7.3346e-04 - accuracy: 1.0000 - val_loss: 3.3808e-04 - val_accuracy: 1.0000\n",
      "Epoch 31/200\n",
      "112/112 [==============================] - 0s 141us/sample - loss: 7.0713e-04 - accuracy: 1.0000 - val_loss: 3.2113e-04 - val_accuracy: 1.0000\n",
      "Epoch 32/200\n",
      "112/112 [==============================] - 0s 146us/sample - loss: 6.8148e-04 - accuracy: 1.0000 - val_loss: 3.0667e-04 - val_accuracy: 1.0000\n",
      "Epoch 33/200\n",
      "112/112 [==============================] - 0s 142us/sample - loss: 6.6628e-04 - accuracy: 1.0000 - val_loss: 3.1896e-04 - val_accuracy: 1.0000\n",
      "Epoch 34/200\n",
      "112/112 [==============================] - 0s 142us/sample - loss: 6.3450e-04 - accuracy: 1.0000 - val_loss: 3.1723e-04 - val_accuracy: 1.0000\n",
      "Epoch 35/200\n",
      "112/112 [==============================] - 0s 141us/sample - loss: 6.1487e-04 - accuracy: 1.0000 - val_loss: 3.0650e-04 - val_accuracy: 1.0000\n",
      "Epoch 36/200\n",
      "112/112 [==============================] - 0s 140us/sample - loss: 5.9711e-04 - accuracy: 1.0000 - val_loss: 2.6491e-04 - val_accuracy: 1.0000\n",
      "Epoch 37/200\n",
      "112/112 [==============================] - 0s 144us/sample - loss: 5.6791e-04 - accuracy: 1.0000 - val_loss: 2.3883e-04 - val_accuracy: 1.0000\n",
      "Epoch 38/200\n",
      "112/112 [==============================] - 0s 161us/sample - loss: 5.4446e-04 - accuracy: 1.0000 - val_loss: 2.2773e-04 - val_accuracy: 1.0000\n",
      "Epoch 39/200\n",
      "112/112 [==============================] - 0s 142us/sample - loss: 5.2519e-04 - accuracy: 1.0000 - val_loss: 2.0534e-04 - val_accuracy: 1.0000\n",
      "Epoch 40/200\n",
      "112/112 [==============================] - 0s 144us/sample - loss: 5.1045e-04 - accuracy: 1.0000 - val_loss: 1.9292e-04 - val_accuracy: 1.0000\n",
      "Epoch 41/200\n",
      "112/112 [==============================] - 0s 137us/sample - loss: 4.9534e-04 - accuracy: 1.0000 - val_loss: 1.8933e-04 - val_accuracy: 1.0000\n",
      "Epoch 42/200\n",
      "112/112 [==============================] - 0s 143us/sample - loss: 4.8443e-04 - accuracy: 1.0000 - val_loss: 1.7907e-04 - val_accuracy: 1.0000\n",
      "Epoch 43/200\n",
      "112/112 [==============================] - 0s 138us/sample - loss: 4.5744e-04 - accuracy: 1.0000 - val_loss: 1.8487e-04 - val_accuracy: 1.0000\n",
      "Epoch 44/200\n",
      "112/112 [==============================] - 0s 167us/sample - loss: 4.3924e-04 - accuracy: 1.0000 - val_loss: 1.8890e-04 - val_accuracy: 1.0000\n",
      "Epoch 45/200\n",
      "112/112 [==============================] - 0s 187us/sample - loss: 4.2786e-04 - accuracy: 1.0000 - val_loss: 1.9346e-04 - val_accuracy: 1.0000\n",
      "Epoch 46/200\n",
      "112/112 [==============================] - 0s 148us/sample - loss: 4.1443e-04 - accuracy: 1.0000 - val_loss: 1.9053e-04 - val_accuracy: 1.0000\n",
      "Epoch 47/200\n",
      "112/112 [==============================] - 0s 166us/sample - loss: 4.0288e-04 - accuracy: 1.0000 - val_loss: 1.8849e-04 - val_accuracy: 1.0000\n",
      "Epoch 48/200\n",
      "112/112 [==============================] - 0s 145us/sample - loss: 3.9111e-04 - accuracy: 1.0000 - val_loss: 1.8345e-04 - val_accuracy: 1.0000\n",
      "Epoch 49/200\n",
      "112/112 [==============================] - 0s 142us/sample - loss: 3.8002e-04 - accuracy: 1.0000 - val_loss: 1.7142e-04 - val_accuracy: 1.0000\n",
      "Epoch 50/200\n",
      "112/112 [==============================] - 0s 145us/sample - loss: 3.6831e-04 - accuracy: 1.0000 - val_loss: 1.6331e-04 - val_accuracy: 1.0000\n",
      "Epoch 51/200\n",
      "112/112 [==============================] - 0s 139us/sample - loss: 3.5530e-04 - accuracy: 1.0000 - val_loss: 1.5134e-04 - val_accuracy: 1.0000\n",
      "Epoch 52/200\n",
      "112/112 [==============================] - 0s 138us/sample - loss: 3.4628e-04 - accuracy: 1.0000 - val_loss: 1.4305e-04 - val_accuracy: 1.0000\n",
      "Epoch 53/200\n",
      "112/112 [==============================] - 0s 142us/sample - loss: 3.4124e-04 - accuracy: 1.0000 - val_loss: 1.3726e-04 - val_accuracy: 1.0000\n",
      "Epoch 54/200\n"
     ]
    },
    {
     "name": "stdout",
     "output_type": "stream",
     "text": [
      "112/112 [==============================] - 0s 136us/sample - loss: 3.3374e-04 - accuracy: 1.0000 - val_loss: 1.4233e-04 - val_accuracy: 1.0000\n",
      "Epoch 55/200\n",
      "112/112 [==============================] - 0s 137us/sample - loss: 3.2050e-04 - accuracy: 1.0000 - val_loss: 1.3602e-04 - val_accuracy: 1.0000\n",
      "Epoch 56/200\n",
      "112/112 [==============================] - 0s 135us/sample - loss: 3.1081e-04 - accuracy: 1.0000 - val_loss: 1.3052e-04 - val_accuracy: 1.0000\n",
      "Epoch 57/200\n",
      "112/112 [==============================] - 0s 131us/sample - loss: 3.0387e-04 - accuracy: 1.0000 - val_loss: 1.2386e-04 - val_accuracy: 1.0000\n",
      "Epoch 58/200\n",
      "112/112 [==============================] - 0s 136us/sample - loss: 2.9703e-04 - accuracy: 1.0000 - val_loss: 1.2449e-04 - val_accuracy: 1.0000\n",
      "Epoch 59/200\n",
      "112/112 [==============================] - 0s 134us/sample - loss: 2.8836e-04 - accuracy: 1.0000 - val_loss: 1.2319e-04 - val_accuracy: 1.0000\n",
      "Epoch 60/200\n",
      "112/112 [==============================] - 0s 132us/sample - loss: 2.8008e-04 - accuracy: 1.0000 - val_loss: 1.2017e-04 - val_accuracy: 1.0000\n",
      "Epoch 61/200\n",
      "112/112 [==============================] - 0s 130us/sample - loss: 2.7147e-04 - accuracy: 1.0000 - val_loss: 1.1511e-04 - val_accuracy: 1.0000\n",
      "Epoch 62/200\n",
      "112/112 [==============================] - 0s 130us/sample - loss: 2.6488e-04 - accuracy: 1.0000 - val_loss: 1.0816e-04 - val_accuracy: 1.0000\n",
      "Epoch 63/200\n",
      "112/112 [==============================] - 0s 138us/sample - loss: 2.5839e-04 - accuracy: 1.0000 - val_loss: 1.0022e-04 - val_accuracy: 1.0000\n",
      "Epoch 64/200\n",
      "112/112 [==============================] - 0s 131us/sample - loss: 2.5333e-04 - accuracy: 1.0000 - val_loss: 9.5423e-05 - val_accuracy: 1.0000\n",
      "Epoch 65/200\n",
      "112/112 [==============================] - 0s 136us/sample - loss: 2.4814e-04 - accuracy: 1.0000 - val_loss: 9.1423e-05 - val_accuracy: 1.0000\n",
      "Epoch 66/200\n",
      "112/112 [==============================] - 0s 129us/sample - loss: 2.4290e-04 - accuracy: 1.0000 - val_loss: 8.9511e-05 - val_accuracy: 1.0000\n",
      "Epoch 67/200\n",
      "112/112 [==============================] - 0s 136us/sample - loss: 2.3764e-04 - accuracy: 1.0000 - val_loss: 8.9250e-05 - val_accuracy: 1.0000\n",
      "Epoch 68/200\n",
      "112/112 [==============================] - 0s 128us/sample - loss: 2.3137e-04 - accuracy: 1.0000 - val_loss: 8.8492e-05 - val_accuracy: 1.0000\n",
      "Epoch 69/200\n",
      "112/112 [==============================] - 0s 134us/sample - loss: 2.2757e-04 - accuracy: 1.0000 - val_loss: 9.0699e-05 - val_accuracy: 1.0000\n",
      "Epoch 70/200\n",
      "112/112 [==============================] - 0s 138us/sample - loss: 2.1998e-04 - accuracy: 1.0000 - val_loss: 9.0497e-05 - val_accuracy: 1.0000\n",
      "Epoch 71/200\n",
      "112/112 [==============================] - 0s 130us/sample - loss: 2.1671e-04 - accuracy: 1.0000 - val_loss: 9.0531e-05 - val_accuracy: 1.0000\n",
      "Epoch 72/200\n",
      "112/112 [==============================] - 0s 146us/sample - loss: 2.0985e-04 - accuracy: 1.0000 - val_loss: 8.8593e-05 - val_accuracy: 1.0000\n",
      "Epoch 73/200\n",
      "112/112 [==============================] - 0s 153us/sample - loss: 2.0768e-04 - accuracy: 1.0000 - val_loss: 8.5390e-05 - val_accuracy: 1.0000\n",
      "Epoch 74/200\n",
      "112/112 [==============================] - 0s 140us/sample - loss: 2.0324e-04 - accuracy: 1.0000 - val_loss: 8.4438e-05 - val_accuracy: 1.0000\n",
      "Epoch 75/200\n",
      "112/112 [==============================] - 0s 128us/sample - loss: 1.9685e-04 - accuracy: 1.0000 - val_loss: 7.8175e-05 - val_accuracy: 1.0000\n",
      "Epoch 76/200\n",
      "112/112 [==============================] - 0s 130us/sample - loss: 1.9284e-04 - accuracy: 1.0000 - val_loss: 7.4622e-05 - val_accuracy: 1.0000\n",
      "Epoch 77/200\n",
      "112/112 [==============================] - 0s 134us/sample - loss: 1.8946e-04 - accuracy: 1.0000 - val_loss: 7.2879e-05 - val_accuracy: 1.0000\n",
      "Epoch 78/200\n",
      "112/112 [==============================] - 0s 132us/sample - loss: 1.8400e-04 - accuracy: 1.0000 - val_loss: 6.8572e-05 - val_accuracy: 1.0000\n",
      "Epoch 79/200\n",
      "112/112 [==============================] - 0s 128us/sample - loss: 1.8073e-04 - accuracy: 1.0000 - val_loss: 6.5489e-05 - val_accuracy: 1.0000\n",
      "Epoch 80/200\n",
      "112/112 [==============================] - 0s 132us/sample - loss: 1.7803e-04 - accuracy: 1.0000 - val_loss: 6.4146e-05 - val_accuracy: 1.0000\n",
      "Epoch 81/200\n",
      "112/112 [==============================] - 0s 134us/sample - loss: 1.7380e-04 - accuracy: 1.0000 - val_loss: 6.2687e-05 - val_accuracy: 1.0000\n",
      "Epoch 82/200\n",
      "112/112 [==============================] - 0s 132us/sample - loss: 1.7165e-04 - accuracy: 1.0000 - val_loss: 6.2869e-05 - val_accuracy: 1.0000\n",
      "Epoch 83/200\n",
      "112/112 [==============================] - 0s 133us/sample - loss: 1.6755e-04 - accuracy: 1.0000 - val_loss: 6.1359e-05 - val_accuracy: 1.0000\n",
      "Epoch 84/200\n",
      "112/112 [==============================] - 0s 131us/sample - loss: 1.6467e-04 - accuracy: 1.0000 - val_loss: 6.0270e-05 - val_accuracy: 1.0000\n",
      "Epoch 85/200\n",
      "112/112 [==============================] - 0s 134us/sample - loss: 1.6220e-04 - accuracy: 1.0000 - val_loss: 6.1502e-05 - val_accuracy: 1.0000\n",
      "Epoch 86/200\n",
      "112/112 [==============================] - 0s 132us/sample - loss: 1.5713e-04 - accuracy: 1.0000 - val_loss: 6.1612e-05 - val_accuracy: 1.0000\n",
      "Epoch 87/200\n",
      "112/112 [==============================] - 0s 134us/sample - loss: 1.5552e-04 - accuracy: 1.0000 - val_loss: 6.1657e-05 - val_accuracy: 1.0000\n",
      "Epoch 88/200\n",
      "112/112 [==============================] - 0s 131us/sample - loss: 1.5181e-04 - accuracy: 1.0000 - val_loss: 6.0703e-05 - val_accuracy: 1.0000\n",
      "Epoch 89/200\n",
      "112/112 [==============================] - 0s 134us/sample - loss: 1.4985e-04 - accuracy: 1.0000 - val_loss: 5.9304e-05 - val_accuracy: 1.0000\n",
      "Epoch 90/200\n",
      "112/112 [==============================] - 0s 136us/sample - loss: 1.4686e-04 - accuracy: 1.0000 - val_loss: 5.8265e-05 - val_accuracy: 1.0000\n",
      "Epoch 91/200\n",
      "112/112 [==============================] - 0s 134us/sample - loss: 1.4390e-04 - accuracy: 1.0000 - val_loss: 5.7837e-05 - val_accuracy: 1.0000\n",
      "Epoch 92/200\n",
      "112/112 [==============================] - 0s 132us/sample - loss: 1.4219e-04 - accuracy: 1.0000 - val_loss: 5.7340e-05 - val_accuracy: 1.0000\n",
      "Epoch 93/200\n",
      "112/112 [==============================] - 0s 147us/sample - loss: 1.3967e-04 - accuracy: 1.0000 - val_loss: 5.5889e-05 - val_accuracy: 1.0000\n",
      "Epoch 94/200\n",
      "112/112 [==============================] - 0s 133us/sample - loss: 1.3659e-04 - accuracy: 1.0000 - val_loss: 5.4933e-05 - val_accuracy: 1.0000\n",
      "Epoch 95/200\n",
      "112/112 [==============================] - 0s 132us/sample - loss: 1.3551e-04 - accuracy: 1.0000 - val_loss: 5.2975e-05 - val_accuracy: 1.0000\n",
      "Epoch 96/200\n",
      "112/112 [==============================] - 0s 130us/sample - loss: 1.3221e-04 - accuracy: 1.0000 - val_loss: 5.2209e-05 - val_accuracy: 1.0000\n",
      "Epoch 97/200\n",
      "112/112 [==============================] - 0s 131us/sample - loss: 1.3007e-04 - accuracy: 1.0000 - val_loss: 5.2045e-05 - val_accuracy: 1.0000\n",
      "Epoch 98/200\n",
      "112/112 [==============================] - 0s 130us/sample - loss: 1.2801e-04 - accuracy: 1.0000 - val_loss: 5.2300e-05 - val_accuracy: 1.0000\n",
      "Epoch 99/200\n",
      "112/112 [==============================] - 0s 128us/sample - loss: 1.2653e-04 - accuracy: 1.0000 - val_loss: 4.9627e-05 - val_accuracy: 1.0000\n",
      "Epoch 100/200\n",
      "112/112 [==============================] - 0s 133us/sample - loss: 1.2289e-04 - accuracy: 1.0000 - val_loss: 4.7841e-05 - val_accuracy: 1.0000\n",
      "Epoch 101/200\n",
      "112/112 [==============================] - 0s 130us/sample - loss: 1.2113e-04 - accuracy: 1.0000 - val_loss: 4.6694e-05 - val_accuracy: 1.0000\n",
      "Epoch 102/200\n",
      "112/112 [==============================] - 0s 127us/sample - loss: 1.1883e-04 - accuracy: 1.0000 - val_loss: 4.5780e-05 - val_accuracy: 1.0000\n",
      "Epoch 103/200\n",
      "112/112 [==============================] - 0s 129us/sample - loss: 1.1663e-04 - accuracy: 1.0000 - val_loss: 4.4498e-05 - val_accuracy: 1.0000\n",
      "Epoch 104/200\n",
      "112/112 [==============================] - 0s 141us/sample - loss: 1.1484e-04 - accuracy: 1.0000 - val_loss: 4.2211e-05 - val_accuracy: 1.0000\n",
      "Epoch 105/200\n",
      "112/112 [==============================] - 0s 130us/sample - loss: 1.1344e-04 - accuracy: 1.0000 - val_loss: 4.0605e-05 - val_accuracy: 1.0000\n",
      "Epoch 106/200\n"
     ]
    },
    {
     "name": "stdout",
     "output_type": "stream",
     "text": [
      "112/112 [==============================] - 0s 135us/sample - loss: 1.1140e-04 - accuracy: 1.0000 - val_loss: 4.0479e-05 - val_accuracy: 1.0000\n",
      "Epoch 107/200\n",
      "112/112 [==============================] - 0s 134us/sample - loss: 1.0870e-04 - accuracy: 1.0000 - val_loss: 4.0511e-05 - val_accuracy: 1.0000\n",
      "Epoch 108/200\n",
      "112/112 [==============================] - 0s 135us/sample - loss: 1.0787e-04 - accuracy: 1.0000 - val_loss: 4.1839e-05 - val_accuracy: 1.0000\n",
      "Epoch 109/200\n",
      "112/112 [==============================] - 0s 131us/sample - loss: 1.0562e-04 - accuracy: 1.0000 - val_loss: 4.2122e-05 - val_accuracy: 1.0000\n",
      "Epoch 110/200\n",
      "112/112 [==============================] - 0s 129us/sample - loss: 1.0452e-04 - accuracy: 1.0000 - val_loss: 4.2078e-05 - val_accuracy: 1.0000\n",
      "Epoch 111/200\n",
      "112/112 [==============================] - 0s 132us/sample - loss: 1.0289e-04 - accuracy: 1.0000 - val_loss: 3.9274e-05 - val_accuracy: 1.0000\n",
      "Epoch 112/200\n",
      "112/112 [==============================] - 0s 133us/sample - loss: 9.9904e-05 - accuracy: 1.0000 - val_loss: 3.7815e-05 - val_accuracy: 1.0000\n",
      "Epoch 113/200\n",
      "112/112 [==============================] - 0s 136us/sample - loss: 9.8417e-05 - accuracy: 1.0000 - val_loss: 3.5506e-05 - val_accuracy: 1.0000\n",
      "Epoch 114/200\n",
      "112/112 [==============================] - 0s 132us/sample - loss: 9.6618e-05 - accuracy: 1.0000 - val_loss: 3.4010e-05 - val_accuracy: 1.0000\n",
      "Epoch 115/200\n",
      "112/112 [==============================] - 0s 137us/sample - loss: 9.5751e-05 - accuracy: 1.0000 - val_loss: 3.2976e-05 - val_accuracy: 1.0000\n",
      "Epoch 116/200\n",
      "112/112 [==============================] - 0s 134us/sample - loss: 9.4448e-05 - accuracy: 1.0000 - val_loss: 3.1201e-05 - val_accuracy: 1.0000\n",
      "Epoch 117/200\n",
      "112/112 [==============================] - 0s 134us/sample - loss: 9.3919e-05 - accuracy: 1.0000 - val_loss: 2.9977e-05 - val_accuracy: 1.0000\n",
      "Epoch 118/200\n",
      "112/112 [==============================] - 0s 133us/sample - loss: 9.1989e-05 - accuracy: 1.0000 - val_loss: 2.9555e-05 - val_accuracy: 1.0000\n",
      "Epoch 119/200\n",
      "112/112 [==============================] - 0s 132us/sample - loss: 9.1078e-05 - accuracy: 1.0000 - val_loss: 2.9613e-05 - val_accuracy: 1.0000\n",
      "Epoch 120/200\n",
      "112/112 [==============================] - 0s 132us/sample - loss: 8.9483e-05 - accuracy: 1.0000 - val_loss: 2.9898e-05 - val_accuracy: 1.0000\n",
      "Epoch 121/200\n",
      "112/112 [==============================] - 0s 135us/sample - loss: 8.8065e-05 - accuracy: 1.0000 - val_loss: 3.0185e-05 - val_accuracy: 1.0000\n",
      "Epoch 122/200\n",
      "112/112 [==============================] - 0s 131us/sample - loss: 8.6254e-05 - accuracy: 1.0000 - val_loss: 3.0183e-05 - val_accuracy: 1.0000\n",
      "Epoch 123/200\n",
      "112/112 [==============================] - 0s 133us/sample - loss: 8.5271e-05 - accuracy: 1.0000 - val_loss: 2.9562e-05 - val_accuracy: 1.0000\n",
      "Epoch 124/200\n",
      "112/112 [==============================] - 0s 134us/sample - loss: 8.3973e-05 - accuracy: 1.0000 - val_loss: 2.9157e-05 - val_accuracy: 1.0000\n",
      "Epoch 125/200\n",
      "112/112 [==============================] - 0s 135us/sample - loss: 8.2419e-05 - accuracy: 1.0000 - val_loss: 2.8674e-05 - val_accuracy: 1.0000\n",
      "Epoch 126/200\n",
      "112/112 [==============================] - 0s 135us/sample - loss: 8.1509e-05 - accuracy: 1.0000 - val_loss: 2.8331e-05 - val_accuracy: 1.0000\n",
      "Epoch 127/200\n",
      "112/112 [==============================] - 0s 134us/sample - loss: 8.1176e-05 - accuracy: 1.0000 - val_loss: 2.8848e-05 - val_accuracy: 1.0000\n",
      "Epoch 128/200\n",
      "112/112 [==============================] - 0s 135us/sample - loss: 7.9319e-05 - accuracy: 1.0000 - val_loss: 2.8676e-05 - val_accuracy: 1.0000\n",
      "Epoch 129/200\n",
      "112/112 [==============================] - 0s 134us/sample - loss: 7.8758e-05 - accuracy: 1.0000 - val_loss: 2.8664e-05 - val_accuracy: 1.0000\n",
      "Epoch 130/200\n",
      "112/112 [==============================] - 0s 133us/sample - loss: 7.7513e-05 - accuracy: 1.0000 - val_loss: 2.8049e-05 - val_accuracy: 1.0000\n",
      "Epoch 131/200\n",
      "112/112 [==============================] - 0s 141us/sample - loss: 7.6445e-05 - accuracy: 1.0000 - val_loss: 2.7331e-05 - val_accuracy: 1.0000\n",
      "Epoch 132/200\n",
      "112/112 [==============================] - 0s 132us/sample - loss: 7.5273e-05 - accuracy: 1.0000 - val_loss: 2.7081e-05 - val_accuracy: 1.0000\n",
      "Epoch 133/200\n",
      "112/112 [==============================] - 0s 136us/sample - loss: 7.4586e-05 - accuracy: 1.0000 - val_loss: 2.6388e-05 - val_accuracy: 1.0000\n",
      "Epoch 134/200\n",
      "112/112 [==============================] - 0s 139us/sample - loss: 7.3301e-05 - accuracy: 1.0000 - val_loss: 2.6036e-05 - val_accuracy: 1.0000\n",
      "Epoch 135/200\n",
      "112/112 [==============================] - 0s 133us/sample - loss: 7.2436e-05 - accuracy: 1.0000 - val_loss: 2.5896e-05 - val_accuracy: 1.0000\n",
      "Epoch 136/200\n",
      "112/112 [==============================] - 0s 140us/sample - loss: 7.1357e-05 - accuracy: 1.0000 - val_loss: 2.5880e-05 - val_accuracy: 1.0000\n",
      "Epoch 137/200\n",
      "112/112 [==============================] - 0s 131us/sample - loss: 7.0581e-05 - accuracy: 1.0000 - val_loss: 2.6030e-05 - val_accuracy: 1.0000\n",
      "Epoch 138/200\n",
      "112/112 [==============================] - 0s 134us/sample - loss: 7.0028e-05 - accuracy: 1.0000 - val_loss: 2.5942e-05 - val_accuracy: 1.0000\n",
      "Epoch 139/200\n",
      "112/112 [==============================] - 0s 134us/sample - loss: 6.9157e-05 - accuracy: 1.0000 - val_loss: 2.5523e-05 - val_accuracy: 1.0000\n",
      "Epoch 140/200\n",
      "112/112 [==============================] - 0s 132us/sample - loss: 6.8336e-05 - accuracy: 1.0000 - val_loss: 2.4740e-05 - val_accuracy: 1.0000\n",
      "Epoch 141/200\n",
      "112/112 [==============================] - 0s 136us/sample - loss: 6.7343e-05 - accuracy: 1.0000 - val_loss: 2.4421e-05 - val_accuracy: 1.0000\n",
      "Epoch 142/200\n",
      "112/112 [==============================] - 0s 128us/sample - loss: 6.5907e-05 - accuracy: 1.0000 - val_loss: 2.3292e-05 - val_accuracy: 1.0000\n",
      "Epoch 143/200\n",
      "112/112 [==============================] - 0s 129us/sample - loss: 6.5201e-05 - accuracy: 1.0000 - val_loss: 2.2352e-05 - val_accuracy: 1.0000\n",
      "Epoch 144/200\n",
      "112/112 [==============================] - 0s 129us/sample - loss: 6.4693e-05 - accuracy: 1.0000 - val_loss: 2.1553e-05 - val_accuracy: 1.0000\n",
      "Epoch 145/200\n",
      "112/112 [==============================] - 0s 131us/sample - loss: 6.4062e-05 - accuracy: 1.0000 - val_loss: 2.1575e-05 - val_accuracy: 1.0000\n",
      "Epoch 146/200\n",
      "112/112 [==============================] - 0s 133us/sample - loss: 6.3006e-05 - accuracy: 1.0000 - val_loss: 2.0925e-05 - val_accuracy: 1.0000\n",
      "Epoch 147/200\n",
      "112/112 [==============================] - 0s 131us/sample - loss: 6.2083e-05 - accuracy: 1.0000 - val_loss: 2.0405e-05 - val_accuracy: 1.0000\n",
      "Epoch 148/200\n",
      "112/112 [==============================] - 0s 132us/sample - loss: 6.1215e-05 - accuracy: 1.0000 - val_loss: 2.0174e-05 - val_accuracy: 1.0000\n",
      "Epoch 149/200\n",
      "112/112 [==============================] - 0s 133us/sample - loss: 6.0307e-05 - accuracy: 1.0000 - val_loss: 1.9556e-05 - val_accuracy: 1.0000\n",
      "Epoch 150/200\n",
      "112/112 [==============================] - 0s 132us/sample - loss: 5.9786e-05 - accuracy: 1.0000 - val_loss: 1.9193e-05 - val_accuracy: 1.0000\n",
      "Epoch 151/200\n",
      "112/112 [==============================] - 0s 134us/sample - loss: 5.9013e-05 - accuracy: 1.0000 - val_loss: 1.9265e-05 - val_accuracy: 1.0000\n",
      "Epoch 152/200\n",
      "112/112 [==============================] - 0s 134us/sample - loss: 5.7979e-05 - accuracy: 1.0000 - val_loss: 1.9304e-05 - val_accuracy: 1.0000\n",
      "Epoch 153/200\n",
      "112/112 [==============================] - 0s 132us/sample - loss: 5.8386e-05 - accuracy: 1.0000 - val_loss: 1.9927e-05 - val_accuracy: 1.0000\n",
      "Epoch 154/200\n",
      "112/112 [==============================] - 0s 136us/sample - loss: 5.6873e-05 - accuracy: 1.0000 - val_loss: 1.9348e-05 - val_accuracy: 1.0000\n",
      "Epoch 155/200\n",
      "112/112 [==============================] - 0s 135us/sample - loss: 5.5835e-05 - accuracy: 1.0000 - val_loss: 1.9020e-05 - val_accuracy: 1.0000\n",
      "Epoch 156/200\n",
      "112/112 [==============================] - 0s 139us/sample - loss: 5.5134e-05 - accuracy: 1.0000 - val_loss: 1.8673e-05 - val_accuracy: 1.0000\n",
      "Epoch 157/200\n",
      "112/112 [==============================] - 0s 141us/sample - loss: 5.4621e-05 - accuracy: 1.0000 - val_loss: 1.8367e-05 - val_accuracy: 1.0000\n",
      "Epoch 158/200\n"
     ]
    },
    {
     "name": "stdout",
     "output_type": "stream",
     "text": [
      "112/112 [==============================] - 0s 141us/sample - loss: 5.4022e-05 - accuracy: 1.0000 - val_loss: 1.7964e-05 - val_accuracy: 1.0000\n",
      "Epoch 159/200\n",
      "112/112 [==============================] - 0s 138us/sample - loss: 5.3327e-05 - accuracy: 1.0000 - val_loss: 1.7725e-05 - val_accuracy: 1.0000\n",
      "Epoch 160/200\n",
      "112/112 [==============================] - 0s 144us/sample - loss: 5.2912e-05 - accuracy: 1.0000 - val_loss: 1.7596e-05 - val_accuracy: 1.0000\n",
      "Epoch 161/200\n",
      "112/112 [==============================] - 0s 138us/sample - loss: 5.2251e-05 - accuracy: 1.0000 - val_loss: 1.7404e-05 - val_accuracy: 1.0000\n",
      "Epoch 162/200\n",
      "112/112 [==============================] - 0s 136us/sample - loss: 5.1643e-05 - accuracy: 1.0000 - val_loss: 1.7148e-05 - val_accuracy: 1.0000\n",
      "Epoch 163/200\n",
      "112/112 [==============================] - 0s 131us/sample - loss: 5.1108e-05 - accuracy: 1.0000 - val_loss: 1.7095e-05 - val_accuracy: 1.0000\n",
      "Epoch 164/200\n",
      "112/112 [==============================] - 0s 134us/sample - loss: 5.0558e-05 - accuracy: 1.0000 - val_loss: 1.7016e-05 - val_accuracy: 1.0000\n",
      "Epoch 165/200\n",
      "112/112 [==============================] - 0s 136us/sample - loss: 5.0160e-05 - accuracy: 1.0000 - val_loss: 1.6731e-05 - val_accuracy: 1.0000\n",
      "Epoch 166/200\n",
      "112/112 [==============================] - 0s 135us/sample - loss: 4.9642e-05 - accuracy: 1.0000 - val_loss: 1.6566e-05 - val_accuracy: 1.0000\n",
      "Epoch 167/200\n",
      "112/112 [==============================] - 0s 140us/sample - loss: 4.8986e-05 - accuracy: 1.0000 - val_loss: 1.6310e-05 - val_accuracy: 1.0000\n",
      "Epoch 168/200\n",
      "112/112 [==============================] - 0s 131us/sample - loss: 4.8589e-05 - accuracy: 1.0000 - val_loss: 1.6125e-05 - val_accuracy: 1.0000\n",
      "Epoch 169/200\n",
      "112/112 [==============================] - 0s 133us/sample - loss: 4.8001e-05 - accuracy: 1.0000 - val_loss: 1.5951e-05 - val_accuracy: 1.0000\n",
      "Epoch 170/200\n",
      "112/112 [==============================] - 0s 137us/sample - loss: 4.7690e-05 - accuracy: 1.0000 - val_loss: 1.5809e-05 - val_accuracy: 1.0000\n",
      "Epoch 171/200\n",
      "112/112 [==============================] - 0s 133us/sample - loss: 4.7157e-05 - accuracy: 1.0000 - val_loss: 1.5189e-05 - val_accuracy: 1.0000\n",
      "Epoch 172/200\n",
      "112/112 [==============================] - 0s 136us/sample - loss: 4.6719e-05 - accuracy: 1.0000 - val_loss: 1.4771e-05 - val_accuracy: 1.0000\n",
      "Epoch 173/200\n",
      "112/112 [==============================] - 0s 135us/sample - loss: 4.6126e-05 - accuracy: 1.0000 - val_loss: 1.4560e-05 - val_accuracy: 1.0000\n",
      "Epoch 174/200\n",
      "112/112 [==============================] - 0s 136us/sample - loss: 4.5757e-05 - accuracy: 1.0000 - val_loss: 1.4459e-05 - val_accuracy: 1.0000\n",
      "Epoch 175/200\n",
      "112/112 [==============================] - 0s 133us/sample - loss: 4.5184e-05 - accuracy: 1.0000 - val_loss: 1.4293e-05 - val_accuracy: 1.0000\n",
      "Epoch 176/200\n",
      "112/112 [==============================] - 0s 140us/sample - loss: 4.5011e-05 - accuracy: 1.0000 - val_loss: 1.4361e-05 - val_accuracy: 1.0000\n",
      "Epoch 177/200\n",
      "112/112 [==============================] - 0s 136us/sample - loss: 4.4393e-05 - accuracy: 1.0000 - val_loss: 1.3883e-05 - val_accuracy: 1.0000\n",
      "Epoch 178/200\n",
      "112/112 [==============================] - 0s 137us/sample - loss: 4.3756e-05 - accuracy: 1.0000 - val_loss: 1.3693e-05 - val_accuracy: 1.0000\n",
      "Epoch 179/200\n",
      "112/112 [==============================] - 0s 131us/sample - loss: 4.3589e-05 - accuracy: 1.0000 - val_loss: 1.3660e-05 - val_accuracy: 1.0000\n",
      "Epoch 180/200\n",
      "112/112 [==============================] - 0s 136us/sample - loss: 4.2981e-05 - accuracy: 1.0000 - val_loss: 1.3429e-05 - val_accuracy: 1.0000\n",
      "Epoch 181/200\n",
      "112/112 [==============================] - 0s 137us/sample - loss: 4.2556e-05 - accuracy: 1.0000 - val_loss: 1.3254e-05 - val_accuracy: 1.0000\n",
      "Epoch 182/200\n",
      "112/112 [==============================] - 0s 136us/sample - loss: 4.2279e-05 - accuracy: 1.0000 - val_loss: 1.3281e-05 - val_accuracy: 1.0000\n",
      "Epoch 183/200\n",
      "112/112 [==============================] - 0s 137us/sample - loss: 4.1857e-05 - accuracy: 1.0000 - val_loss: 1.3033e-05 - val_accuracy: 1.0000\n",
      "Epoch 184/200\n",
      "112/112 [==============================] - 0s 133us/sample - loss: 4.1194e-05 - accuracy: 1.0000 - val_loss: 1.3183e-05 - val_accuracy: 1.0000\n",
      "Epoch 185/200\n",
      "112/112 [==============================] - 0s 132us/sample - loss: 4.1116e-05 - accuracy: 1.0000 - val_loss: 1.3216e-05 - val_accuracy: 1.0000\n",
      "Epoch 186/200\n",
      "112/112 [==============================] - 0s 134us/sample - loss: 4.0382e-05 - accuracy: 1.0000 - val_loss: 1.2779e-05 - val_accuracy: 1.0000\n",
      "Epoch 187/200\n",
      "112/112 [==============================] - 0s 131us/sample - loss: 4.0054e-05 - accuracy: 1.0000 - val_loss: 1.2621e-05 - val_accuracy: 1.0000\n",
      "Epoch 188/200\n",
      "112/112 [==============================] - 0s 135us/sample - loss: 3.9474e-05 - accuracy: 1.0000 - val_loss: 1.2389e-05 - val_accuracy: 1.0000\n",
      "Epoch 189/200\n",
      "112/112 [==============================] - 0s 132us/sample - loss: 3.9084e-05 - accuracy: 1.0000 - val_loss: 1.2036e-05 - val_accuracy: 1.0000\n",
      "Epoch 190/200\n",
      "112/112 [==============================] - 0s 137us/sample - loss: 3.8759e-05 - accuracy: 1.0000 - val_loss: 1.1893e-05 - val_accuracy: 1.0000\n",
      "Epoch 191/200\n",
      "112/112 [==============================] - 0s 136us/sample - loss: 3.8405e-05 - accuracy: 1.0000 - val_loss: 1.1797e-05 - val_accuracy: 1.0000\n",
      "Epoch 192/200\n",
      "112/112 [==============================] - 0s 138us/sample - loss: 3.7837e-05 - accuracy: 1.0000 - val_loss: 1.1649e-05 - val_accuracy: 1.0000\n",
      "Epoch 193/200\n",
      "112/112 [==============================] - 0s 132us/sample - loss: 3.7551e-05 - accuracy: 1.0000 - val_loss: 1.1534e-05 - val_accuracy: 1.0000\n",
      "Epoch 194/200\n",
      "112/112 [==============================] - 0s 134us/sample - loss: 3.7223e-05 - accuracy: 1.0000 - val_loss: 1.1463e-05 - val_accuracy: 1.0000\n",
      "Epoch 195/200\n",
      "112/112 [==============================] - 0s 133us/sample - loss: 3.6834e-05 - accuracy: 1.0000 - val_loss: 1.1379e-05 - val_accuracy: 1.0000\n",
      "Epoch 196/200\n",
      "112/112 [==============================] - 0s 137us/sample - loss: 3.6437e-05 - accuracy: 1.0000 - val_loss: 1.1287e-05 - val_accuracy: 1.0000\n",
      "Epoch 197/200\n",
      "112/112 [==============================] - 0s 132us/sample - loss: 3.6243e-05 - accuracy: 1.0000 - val_loss: 1.1049e-05 - val_accuracy: 1.0000\n",
      "Epoch 198/200\n",
      "112/112 [==============================] - 0s 133us/sample - loss: 3.5887e-05 - accuracy: 1.0000 - val_loss: 1.1142e-05 - val_accuracy: 1.0000\n",
      "Epoch 199/200\n",
      "112/112 [==============================] - 0s 137us/sample - loss: 3.5634e-05 - accuracy: 1.0000 - val_loss: 1.1161e-05 - val_accuracy: 1.0000\n",
      "Epoch 200/200\n",
      "112/112 [==============================] - 0s 129us/sample - loss: 3.5188e-05 - accuracy: 1.0000 - val_loss: 1.0927e-05 - val_accuracy: 1.0000\n"
     ]
    }
   ],
   "source": [
    "history = model.fit(norm_X_train, y_train,\n",
    "             batch_size=32, epochs=200, verbose=1,\n",
    "             validation_data=(norm_X_test, y_test),\n",
    "             callbacks=[keras.callbacks.EarlyStopping(patience=10),\n",
    "                       keras.callbacks.TensorBoard(run_logdir)])"
   ]
  },
  {
   "cell_type": "code",
   "execution_count": 12,
   "metadata": {},
   "outputs": [
    {
     "name": "stdout",
     "output_type": "stream",
     "text": [
      "38/38 [==============================] - 0s 82us/sample - loss: 1.0927e-05 - accuracy: 1.0000\n"
     ]
    },
    {
     "data": {
      "text/plain": [
       "[1.0926781573959344e-05, 1.0]"
      ]
     },
     "execution_count": 12,
     "metadata": {},
     "output_type": "execute_result"
    }
   ],
   "source": [
    "model.evaluate(norm_X_test, y_test)"
   ]
  },
  {
   "cell_type": "code",
   "execution_count": 13,
   "metadata": {},
   "outputs": [
    {
     "data": {
      "image/png": "[encoded data removed]",
      "text/plain": [
       "<Figure size 720x360 with 4 Axes>"
      ]
     },
     "metadata": {
      "needs_background": "light"
     },
     "output_type": "display_data"
    }
   ],
   "source": [
    "num_bins = 10\n",
    "\n",
    "fig, [[ax0, ax1], [ax2, ax3]] = plt.subplots(2, 2, figsize=(10,5))\n",
    "fig.suptitle('Histograms of raw data')\n",
    "n, bins, patches = ax0.hist(X_train[:,0], num_bins, density=1)\n",
    "ax0.set_xlabel('Sepal length (cm)')\n",
    "n, bins, patches = ax1.hist(X_train[:,1], num_bins, density=1)\n",
    "ax1.set_xlabel('Sepal width (cm)')\n",
    "n, bins, patches = ax2.hist(X_train[:,2], num_bins, density=1)\n",
    "ax2.set_xlabel('Petal length (cm)')\n",
    "n, bins, patches = ax3.hist(X_train[:,3], num_bins, density=1)\n",
    "ax3.set_xlabel('Petal width (cm)')\n",
    "fig.tight_layout(pad=3.0)\n",
    "plt.show()"
   ]
  },
  {
   "cell_type": "code",
   "execution_count": 14,
   "metadata": {},
   "outputs": [
    {
     "data": {
      "image/png": "[encoded data removed]",
      "text/plain": [
       "<Figure size 720x360 with 4 Axes>"
      ]
     },
     "metadata": {
      "needs_background": "light"
     },
     "output_type": "display_data"
    }
   ],
   "source": [
    "num_bins = 10\n",
    "\n",
    "fig, [[ax0, ax1], [ax2, ax3]] = plt.subplots(2, 2, figsize=(10,5))\n",
    "fig.suptitle('Histograms of rank transformed data')\n",
    "n, bins, patches = ax0.hist(norm_X_train[:,0], num_bins, density=1)\n",
    "ax0.set_xlabel('Sepal length')\n",
    "n, bins, patches = ax1.hist(norm_X_train[:,1], num_bins, density=1)\n",
    "ax1.set_xlabel('Sepal width')\n",
    "n, bins, patches = ax2.hist(norm_X_train[:,2], num_bins, density=1)\n",
    "ax2.set_xlabel('Petal length')\n",
    "n, bins, patches = ax3.hist(norm_X_train[:,3], num_bins, density=1)\n",
    "ax3.set_xlabel('Petal width')\n",
    "fig.tight_layout(pad=3.0)\n",
    "plt.show()"
   ]
  },
  {
   "cell_type": "code",
   "execution_count": 15,
   "metadata": {},
   "outputs": [
    {
     "data": {
      "text/plain": [
       "array([0.1, 0.1, 0.1, 0.1, 0.1, 0.2, 0.2, 0.2, 0.2, 0.2, 0.2, 0.2, 0.2,\n",
       "       0.2, 0.2, 0.2, 0.2, 0.2, 0.2, 0.2, 0.2, 0.2, 0.2, 0.2, 0.2, 0.2,\n",
       "       0.2, 0.3, 0.3, 0.3, 0.3, 0.3, 0.4, 0.4, 0.4, 0.5, 0.6, 1. , 1. ,\n",
       "       1. , 1. , 1. , 1. , 1. , 1.1, 1.2, 1.2, 1.3, 1.3, 1.3, 1.3, 1.3,\n",
       "       1.3, 1.3, 1.3, 1.3, 1.3, 1.4, 1.4, 1.4, 1.4, 1.4, 1.4, 1.5, 1.5,\n",
       "       1.5, 1.5, 1.5, 1.5, 1.5, 1.5, 1.6, 1.6, 1.6, 1.7, 1.8, 1.8, 1.8,\n",
       "       1.8, 1.8, 1.8, 1.8, 1.8, 1.8, 1.8, 1.8, 1.9, 1.9, 1.9, 1.9, 2. ,\n",
       "       2. , 2. , 2. , 2. , 2.1, 2.1, 2.1, 2.1, 2.2, 2.2, 2.2, 2.3, 2.3,\n",
       "       2.3, 2.3, 2.3, 2.4, 2.4, 2.5, 2.5, 2.5])"
      ]
     },
     "execution_count": 15,
     "metadata": {},
     "output_type": "execute_result"
    }
   ],
   "source": [
    "np.sort(X_train[:,3]) # significant source of ties\n",
    "# original distribution is largely preserved"
   ]
  },
  {
   "cell_type": "code",
   "execution_count": 16,
   "metadata": {},
   "outputs": [
    {
     "data": {
      "image/png": "[encoded data removed]",
      "text/plain": [
       "<Figure size 432x288 with 1 Axes>"
      ]
     },
     "metadata": {
      "needs_background": "light"
     },
     "output_type": "display_data"
    }
   ],
   "source": [
    "plt.scatter(X_train[:,2], X_train[:,3])\n",
    "plt.title('Raw data')\n",
    "plt.xlabel('Petal length (cm)')\n",
    "plt.ylabel('Petal width (cm)')\n",
    "plt.show()"
   ]
  },
  {
   "cell_type": "code",
   "execution_count": 31,
   "metadata": {},
   "outputs": [
    {
     "data": {
      "image/png": "[encoded data removed]",
      "text/plain": [
       "<Figure size 432x288 with 1 Axes>"
      ]
     },
     "metadata": {
      "needs_background": "light"
     },
     "output_type": "display_data"
    }
   ],
   "source": [
    "plt.scatter(norm_X_train[:,2], norm_X_train[:,3], color='r')\n",
    "plt.title('Rank transformed data')\n",
    "plt.xlabel('Petal length')\n",
    "plt.ylabel('Petal width')\n",
    "plt.show()"
   ]
  },
  {
   "cell_type": "code",
   "execution_count": 18,
   "metadata": {},
   "outputs": [],
   "source": [
    "def abs_jacobian_1output(x, model):\n",
    "    \"\"\"\n",
    "    Computes the Jacobian of an input vector and \n",
    "    a Keras model with a single output node.\n",
    "    \n",
    "    Input—\n",
    "    x: Floating numpy vector of inputs.\n",
    "    model: Keras model.\n",
    "    \n",
    "    Output—\n",
    "    jacobian: Absolute numpy Jacobian vector for \n",
    "        scalar output wrt each input.\n",
    "    \"\"\"\n",
    "    x_tensor = tf.convert_to_tensor(x.reshape(1,-1), dtype=tf.float32)\n",
    "    with tf.GradientTape() as g:\n",
    "        g.watch(x_tensor)\n",
    "        y_tensor = model(x_tensor)\n",
    "    jacobian = g.jacobian(y_tensor, x_tensor)\n",
    "    jacobian = jacobian.numpy()[0][0][0]\n",
    "    \n",
    "    return np.absolute(jacobian)"
   ]
  },
  {
   "cell_type": "code",
   "execution_count": 19,
   "metadata": {},
   "outputs": [],
   "source": [
    "def variable_importance_sensitivity_analysis(data, model):\n",
    "    \"\"\"\n",
    "    Computes variable importance of each input variable using sensitivity analysis.\n",
    "    \n",
    "    Input—\n",
    "    data: Data as a numpy matrix.\n",
    "    model: Keras model.\n",
    "    \n",
    "    Output—\n",
    "    variable_importance: average absolute gradient wrt each input over all instances\n",
    "    of 'data'.\n",
    "    \"\"\"\n",
    "    abs_jacobian = np.apply_along_axis(abs_jacobian_1output,\n",
    "                       1,\n",
    "                       data, model=model)\n",
    "    sum_jacobian = np.sum(abs_jacobian, axis=0)\n",
    "    \n",
    "    return sum_jacobian/data.shape[0]"
   ]
  },
  {
   "cell_type": "code",
   "execution_count": 20,
   "metadata": {},
   "outputs": [],
   "source": [
    "var_imp = variable_importance_sensitivity_analysis(norm_X_train, model)"
   ]
  },
  {
   "cell_type": "code",
   "execution_count": 21,
   "metadata": {},
   "outputs": [
    {
     "data": {
      "text/plain": [
       "array([0.00057558, 0.00070186, 0.00105332, 0.0007865 ], dtype=float32)"
      ]
     },
     "execution_count": 21,
     "metadata": {},
     "output_type": "execute_result"
    }
   ],
   "source": [
    "var_imp"
   ]
  },
  {
   "cell_type": "code",
   "execution_count": 22,
   "metadata": {},
   "outputs": [
    {
     "data": {
      "text/plain": [
       "array([0.18464316, 0.2251514 , 0.3378997 , 0.25230575], dtype=float32)"
      ]
     },
     "execution_count": 22,
     "metadata": {},
     "output_type": "execute_result"
    }
   ],
   "source": [
    "var_imp/np.sum(var_imp)"
   ]
  },
  {
   "cell_type": "code",
   "execution_count": null,
   "metadata": {},
   "outputs": [],
   "source": []
  }
 ],
 "metadata": {
  "kernelspec": {
   "display_name": "Python 3",
   "language": "python",
   "name": "python3"
  },
  "language_info": {
   "codemirror_mode": {
    "name": "ipython",
    "version": 3
   },
   "file_extension": ".py",
   "mimetype": "text/x-python",
   "name": "python",
   "nbconvert_exporter": "python",
   "pygments_lexer": "ipython3",
   "version": "3.7.6"
  }
 },
 "nbformat": 4,
 "nbformat_minor": 4
}
